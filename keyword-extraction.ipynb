{
 "cells": [
  {
   "cell_type": "markdown",
   "metadata": {},
   "source": [
    "## Pembuka "
   ]
  },
  {
   "cell_type": "markdown",
   "metadata": {},
   "source": [
    "Blog ini akan membahas teknik sederhana untuk *keyword extraction* atau ekstraksi kata kunci dari dokumen teks. \n",
    "Salah satu aplikasi dari *keyword extraction* bisa anda lihat di bagian bawah dari \n",
    "berita [detik.com](detik.com). Di setiap artikel dari detik.com tertulis keyword-keyword\n",
    "yang diambil dari teks berita. Gambar dibawah merupakan contoh yang diambil dari artikel [ini](https://oto.detik.com/mobil/d-4748247/resmi-ini-tampang-toyota-yaris-terbaru-bisa-parkir-sendiri).\n",
    "\n",
    "![keyword yang muncul di detik.com](keyword-detik-resize.jpg)\n",
    "\n",
    "Dari contoh diatas bisa kita lihat bahwa *keyword* atau kata kunci yang diekstrak dari teks berita detik diatas bisa menjadi *rangkuman* isi dari berita. Kita bisa simpulkan bahwa artikel diatas merupakan artikel otomotif dengan bahasan tentang toyota yaris tanpa perlu membaca seluruh isi teks. Hal ini menjadi salah satu kegunaan utama dari aplikasi *keyword extraction*.\n",
    "\n",
    "Nah, di blog ini saya akan coba membahas satu teknik ekstraksi kata kunci atau *keyword extraction* bahasa Indonesia dari dokumen teks. Idenya sederhana: kita hanya memperhitungkan kata kunci yang berjenis *kata benda* atau *frasa benda*. Dari daftar kata/frasa benda yang kita dapatkan, kita ambil beberapa kata/frasa benda yang *penting* saja, karena dari sebuah dokumen sangat mungkin kita mendapatkan ratusan kata/frasa benda, dan tidak mungkin kita mengambil semua kata/frasa benda tersebut menjadi kata kunci. \n",
    "Dari sini kita bisa tarik dua pertanyaan besar:\n",
    "\n",
    "* Bagaimana cara kita mengambil kata/frasa benda dari teks?\n",
    "* Bagaimana kita mengukur kepentingan dari sebuah kata/frasa benda?\n",
    "\n",
    "Dua pertanyaan diatas yang akan menjadi topik utama di blog ini.\n",
    "\n",
    "Implementasi teknik *keyword extraction* ini saya buat menggunakan Python dalam format Jupyter notebook.\n",
    "Notebook tersebut dapat anda temukan di repo [github](https://github.com/bagasabisena/keyword-extraction) saya."
   ]
  },
  {
   "cell_type": "markdown",
   "metadata": {},
   "source": [
    "## Implementasi"
   ]
  },
  {
   "cell_type": "markdown",
   "metadata": {},
   "source": [
    "Anda memerlukan *library* python `jupyter`, `stanfordnlp`, dan `nltk` untuk menjalankan proyek ini.\n",
    "Semua bisa anda *install* menggunakan pip"
   ]
  },
  {
   "cell_type": "markdown",
   "metadata": {},
   "source": [
    "```\n",
    "pip install jupyter\n",
    "pip install stanfordnlp\n",
    "pip install nltk\n",
    "```"
   ]
  },
  {
   "cell_type": "markdown",
   "metadata": {},
   "source": [
    "sebelum kita mulai, kita perlu mengunduh *file* model bahasa Indonesia yang diperlukan untuk menjalankan fungsi stanfordnlp. Buka terminal di komputer anda dan jalankan perintah berikut\n",
    "\n",
    "```\n",
    "python -c \"import stanfordnlp;stanfordnlp.download('id')\"\n",
    "```\n",
    "\n",
    "Selain itu, kita juga membutuhkan korpus `stopwords` dari NLTK\n",
    "\n",
    "```\n",
    "python -m nltk.downloader stopwords\n",
    "```\n",
    "\n",
    "Sekarang kita bisa mulai dengan mengimpor *module* yang diperlukan"
   ]
  },
  {
   "cell_type": "code",
   "execution_count": 125,
   "metadata": {},
   "outputs": [],
   "source": [
    "import string\n",
    "from urllib.request import urlopen\n",
    "import warnings\n",
    "\n",
    "\n",
    "import stanfordnlp\n",
    "import nltk\n",
    "from nltk.corpus import stopwords\n",
    "from nltk.util import ngrams\n",
    "from collections import Counter\n",
    "from IPython.display import display\n",
    "\n",
    "warnings.filterwarnings('ignore')"
   ]
  },
  {
   "cell_type": "markdown",
   "metadata": {},
   "source": [
    "### Ekstraksi Frasa Benda / Noun Phrase "
   ]
  },
  {
   "cell_type": "markdown",
   "metadata": {},
   "source": [
    "Berikutnya kita inisialisasi *pipeline* dari stanford NLP.\n",
    "`stanfordnlp` menjalankan fungsi *tokenizer* baik *tokenizer* kalimat maupun kata, dan juga melakukan *POS tagging*.\n",
    "*POS tagging* sangat penting karena seperti yang sudah dipaparkan di atas, kita hanya memperhitungkan\n",
    "frasa benda sebagai kandidat *keyword*.\n",
    "\n",
    "Omong-omong, `stanfordnlp` disini adalah library baru berbasis Python yang menggunakan *deep learning* sebagai model, berbeda dengan library serupa dari Stanford bernama `CoreNLP` yang berbasis Java.\n",
    "Lumayan, disini kita jadi bisa mencoba library baru ini. Tidak semua fungsi-fungsi `CoreNLP` ada di `stanfordnlp`, namun pengembang tetap memberikan *interface* untuk bisa mengakses komponen `CoreNLP` melalui `stanfordnlp`."
   ]
  },
  {
   "cell_type": "code",
   "execution_count": 93,
   "metadata": {},
   "outputs": [
    {
     "name": "stdout",
     "output_type": "stream",
     "text": [
      "Use device: cpu\n",
      "---\n",
      "Loading: tokenize\n",
      "With settings: \n",
      "{'model_path': '/Users/bagas/stanfordnlp_resources/id_gsd_models/id_gsd_tokenizer.pt', 'lang': 'id', 'shorthand': 'id_gsd', 'mode': 'predict'}\n",
      "---\n",
      "Loading: pos\n",
      "With settings: \n",
      "{'model_path': '/Users/bagas/stanfordnlp_resources/id_gsd_models/id_gsd_tagger.pt', 'pretrain_path': '/Users/bagas/stanfordnlp_resources/id_gsd_models/id_gsd.pretrain.pt', 'lang': 'id', 'shorthand': 'id_gsd', 'mode': 'predict'}\n",
      "Done loading processors!\n",
      "---\n"
     ]
    }
   ],
   "source": [
    "nlp = stanfordnlp.Pipeline(lang='id', processors='tokenize,pos')"
   ]
  },
  {
   "cell_type": "markdown",
   "metadata": {},
   "source": [
    "Mari kita tes `stanfordnlp` menggunakan paragraf sederhana dengan dua kalimat di bawah"
   ]
  },
  {
   "cell_type": "code",
   "execution_count": 97,
   "metadata": {},
   "outputs": [],
   "source": [
    "s = \"\"\"\n",
    "    Pemberi kerja adalah orang perseorangan, pengusaha, badan hukum, atau badan-badan lainnya yang \n",
    "    mempekerjakan tenaga kerja dengan membayar upah atau imbalan dalam bentuk lain.\n",
    "    Pengusaha adalah orang perseorangan, persekutuan, atau badan hukum \n",
    "    yang menjalankan suatu perusahaan milik sendiri.\n",
    "\"\"\""
   ]
  },
  {
   "cell_type": "markdown",
   "metadata": {},
   "source": [
    "Kita masukkan text tersebut ke *pipeline* yang sudah kita buat"
   ]
  },
  {
   "cell_type": "code",
   "execution_count": 98,
   "metadata": {},
   "outputs": [
    {
     "data": {
      "text/plain": [
       "<stanfordnlp.pipeline.doc.Document at 0x12673ffd0>"
      ]
     },
     "execution_count": 98,
     "metadata": {},
     "output_type": "execute_result"
    }
   ],
   "source": [
    "doc = nlp(s.lower())\n",
    "doc"
   ]
  },
  {
   "cell_type": "markdown",
   "metadata": {},
   "source": [
    "Disini text yang dimasukkan menjadi object `Document`,\n",
    "dan tiap kalimat di dalam dokumen sudah dipecah menggunakan *sentence tokenizer*\n",
    "yang bisa diakses melalui atribut `sentences` yang merupakan `list` yang mana tiap elemennya adalah object `Sentence`."
   ]
  },
  {
   "cell_type": "code",
   "execution_count": 99,
   "metadata": {},
   "outputs": [
    {
     "data": {
      "text/plain": [
       "[<stanfordnlp.pipeline.doc.Sentence at 0x12673fad0>,\n",
       " <stanfordnlp.pipeline.doc.Sentence at 0x12673f9d0>]"
      ]
     },
     "execution_count": 99,
     "metadata": {},
     "output_type": "execute_result"
    }
   ],
   "source": [
    "doc.sentences"
   ]
  },
  {
   "cell_type": "markdown",
   "metadata": {},
   "source": [
    "*Word tokenizer* dari pipeline bekerja memecah kalimat menjadi kumpulan kata, yang bisa diakses melalui atribut `words` yang merupakan `list`, dimana tiap elemennya adalah object `Word`."
   ]
  },
  {
   "cell_type": "code",
   "execution_count": 101,
   "metadata": {},
   "outputs": [
    {
     "data": {
      "text/plain": [
       "[<Word index=1;text=pengusaha;upos=NOUN;xpos=NSD;feats=Number=Sing>,\n",
       " <Word index=2;text=adalah;upos=AUX;xpos=O--;feats=_>,\n",
       " <Word index=3;text=orang;upos=NOUN;xpos=NSD;feats=Number=Sing>,\n",
       " <Word index=4;text=perseorangan;upos=NOUN;xpos=NSD;feats=Number=Sing>,\n",
       " <Word index=5;text=,;upos=PUNCT;xpos=Z--;feats=_>,\n",
       " <Word index=6;text=persekutuan;upos=NOUN;xpos=NSD;feats=Number=Sing>,\n",
       " <Word index=7;text=,;upos=PUNCT;xpos=Z--;feats=_>,\n",
       " <Word index=8;text=atau;upos=CCONJ;xpos=H--;feats=_>,\n",
       " <Word index=9;text=badan;upos=NOUN;xpos=NSD;feats=Number=Sing>,\n",
       " <Word index=10;text=hukum;upos=NOUN;xpos=VSA;feats=Number=Sing|Voice=Act>,\n",
       " <Word index=11;text=yang;upos=PRON;xpos=S--;feats=PronType=Rel>,\n",
       " <Word index=12;text=menjalankan;upos=VERB;xpos=VSA;feats=Number=Sing|Voice=Act>,\n",
       " <Word index=13;text=suatu;upos=DET;xpos=B--;feats=PronType=Ind>,\n",
       " <Word index=14;text=perusahaan;upos=NOUN;xpos=NSD;feats=Number=Sing>,\n",
       " <Word index=15;text=milik;upos=NOUN;xpos=VSA;feats=Number=Sing|Voice=Act>,\n",
       " <Word index=16;text=sendiri;upos=ADJ;xpos=ASP;feats=Degree=Pos|Number=Sing>,\n",
       " <Word index=17;text=.;upos=PUNCT;xpos=Z--;feats=_>]"
      ]
     },
     "execution_count": 101,
     "metadata": {},
     "output_type": "execute_result"
    }
   ],
   "source": [
    "doc.sentences[1].words"
   ]
  },
  {
   "cell_type": "markdown",
   "metadata": {},
   "source": [
    "Selain memecah menjadi token kata, pipeline juga otomatis memberikan POS di tiap token-tokennya.\n",
    "Sangat praktis."
   ]
  },
  {
   "cell_type": "code",
   "execution_count": 103,
   "metadata": {},
   "outputs": [
    {
     "name": "stdout",
     "output_type": "stream",
     "text": [
      "pengusaha NOUN\n",
      "adalah AUX\n",
      "orang NOUN\n",
      "perseorangan NOUN\n",
      ", PUNCT\n",
      "persekutuan NOUN\n",
      ", PUNCT\n",
      "atau CCONJ\n",
      "badan NOUN\n",
      "hukum NOUN\n",
      "yang PRON\n",
      "menjalankan VERB\n",
      "suatu DET\n",
      "perusahaan NOUN\n",
      "milik NOUN\n",
      "sendiri ADJ\n",
      ". PUNCT\n"
     ]
    }
   ],
   "source": [
    "for word in doc.sentences[1].words:\n",
    "    print(word.text, word.upos)"
   ]
  },
  {
   "cell_type": "markdown",
   "metadata": {},
   "source": [
    "Tahap berikutnya adalah bagaimana kita memilih frasa-frasa yang bisa dianggap sebagai *keywords*.\n",
    "Pada kalimat contoh diatas, terdapat 14 kata. Artinya terdapat 14 kandidat *keyword*.\n",
    "Belum lagi kalau kita juga mempertimbangkan bigram sebagai kandidat *keyword*."
   ]
  },
  {
   "cell_type": "code",
   "execution_count": 116,
   "metadata": {},
   "outputs": [
    {
     "data": {
      "text/plain": [
       "[('pengusaha', 'adalah'),\n",
       " ('adalah', 'orang'),\n",
       " ('orang', 'perseorangan'),\n",
       " ('atau', 'badan'),\n",
       " ('badan', 'hukum'),\n",
       " ('hukum', 'yang'),\n",
       " ('yang', 'menjalankan'),\n",
       " ('menjalankan', 'suatu'),\n",
       " ('suatu', 'perusahaan'),\n",
       " ('perusahaan', 'milik'),\n",
       " ('milik', 'sendiri')]"
      ]
     },
     "execution_count": 116,
     "metadata": {},
     "output_type": "execute_result"
    }
   ],
   "source": [
    "words = [word.text for word in doc.sentences[1].words]\n",
    "bigrams = [\n",
    "    bigram for bigram in list(ngrams(words, 2))\n",
    "    if bigram[0] not in string.punctuation and bigram[1] not in string.punctuation\n",
    "]\n",
    "bigrams"
   ]
  },
  {
   "cell_type": "markdown",
   "metadata": {},
   "source": [
    "Kalimat diatas memiliki 11 bigram, sehingga untuk kalimat tersebut terdapat 35 kandidat yang bisa diperhitungkan sebagai *keyword*. Kalau satu kalimat saja ada 35 kandidat *keyword*, bagaimana dengan satu dokumen teks?\n",
    "Tentunya kita tidak bisa memilih satu-persatu bukan?\n",
    "Untuk memperkecil himpunan (*set*) *keywords* yang bisa dipilih, kita menggunakan aturan/*rule* sederhana:\n",
    "\n",
    "> Hanya frasa benda yang diperhitungkan sebagai kandidat *keyword*.\n",
    "\n",
    "Frasa benda adalah frasa yang terdiri dari kata benda secara berurutan dan diikuti oleh kata sifat yang opsional.\n",
    "Disini POS tagger berguna, karena POS tagger lah yang memberikan kelas kata ke setiap token dari sebuah kalimat.\n",
    "\n",
    "Mengekstrak frasa benda adalah tugas dari *parser*. Untuk melakukan itu, saya bisa membuat parser kita sendiri, atau menggunakan parser bawaan yang disediakan oleh *library* `nltk`. Saya memilih untuk melakukan yang terakhir. Saya menggunakan `RegexpParser` dan membangun *grammar* sendiri untuk parser menggunakan aturan *regex*. \n",
    "Grammarnya begini:\n",
    "\n",
    "NP (noun phrase atau frasa benda) = NOUN/PROPN+ ADJ*\n",
    "\n",
    "Atau jika dijabarkan maka frasa benda (NP) dibangun dari satu atau lebih kata benda (NOUN/PROPN), diikuti oleh nol atau lebih ADJ."
   ]
  },
  {
   "cell_type": "markdown",
   "metadata": {},
   "source": [
    "Berikut adalah implementasi *parser* menggunakan NLTK"
   ]
  },
  {
   "cell_type": "code",
   "execution_count": 117,
   "metadata": {},
   "outputs": [],
   "source": [
    "grammar = \"NP: {<NOUN|PROPN>+ <ADJ>*}\"\n",
    "parser = nltk.RegexpParser(grammar)"
   ]
  },
  {
   "cell_type": "markdown",
   "metadata": {},
   "source": [
    "dan berikut adalah hasil *parsing* dari *parser* yang kita buat sebelumnya"
   ]
  },
  {
   "cell_type": "code",
   "execution_count": 121,
   "metadata": {},
   "outputs": [
    {
     "name": "stdout",
     "output_type": "stream",
     "text": [
      "(S\n",
      "  (NP pemberi/NOUN kerja/NOUN)\n",
      "  adalah/AUX\n",
      "  (NP orang/NOUN perseorangan/NOUN)\n",
      "  ,/PUNCT\n",
      "  (NP pengusaha/NOUN)\n",
      "  ,/PUNCT\n",
      "  (NP badan/NOUN hukum/NOUN)\n",
      "  ,/PUNCT\n",
      "  atau/CCONJ\n",
      "  (NP badan-badan/NOUN lainnya/ADJ)\n",
      "  yang/PRON\n",
      "  mempekerjakan/VERB\n",
      "  (NP tenaga/NOUN kerja/NOUN)\n",
      "  dengan/ADP\n",
      "  membayar/VERB\n",
      "  (NP upah/NOUN)\n",
      "  atau/CCONJ\n",
      "  (NP imbalan/NOUN)\n",
      "  dalam/ADP\n",
      "  (NP bentuk/NOUN lain/ADJ)\n",
      "  ./PUNCT)\n"
     ]
    }
   ],
   "source": [
    "word_pos_pairs = [(word.text, word.upos) for word in doc.sentences[0].words]\n",
    "tree = parser.parse(word_pos_pairs)\n",
    "print(tree)"
   ]
  },
  {
   "cell_type": "markdown",
   "metadata": {},
   "source": [
    "Atau jika diilustrasikan dengan gambar"
   ]
  },
  {
   "cell_type": "code",
   "execution_count": 122,
   "metadata": {},
   "outputs": [
    {
     "data": {
      "image/png": "[encoded data removed]",
      "text/plain": [
       "Tree('S', [Tree('NP', [('pemberi', 'NOUN'), ('kerja', 'NOUN')]), ('adalah', 'AUX'), Tree('NP', [('orang', 'NOUN'), ('perseorangan', 'NOUN')]), (',', 'PUNCT'), Tree('NP', [('pengusaha', 'NOUN')]), (',', 'PUNCT'), Tree('NP', [('badan', 'NOUN'), ('hukum', 'NOUN')]), (',', 'PUNCT'), ('atau', 'CCONJ'), Tree('NP', [('badan-badan', 'NOUN'), ('lainnya', 'ADJ')]), ('yang', 'PRON'), ('mempekerjakan', 'VERB'), Tree('NP', [('tenaga', 'NOUN'), ('kerja', 'NOUN')]), ('dengan', 'ADP'), ('membayar', 'VERB'), Tree('NP', [('upah', 'NOUN')]), ('atau', 'CCONJ'), Tree('NP', [('imbalan', 'NOUN')]), ('dalam', 'ADP'), Tree('NP', [('bentuk', 'NOUN'), ('lain', 'ADJ')]), ('.', 'PUNCT')])"
      ]
     },
     "metadata": {},
     "output_type": "display_data"
    }
   ],
   "source": [
    "display(tree)"
   ]
  },
  {
   "cell_type": "markdown",
   "metadata": {},
   "source": [
    "Kode berikut mengambil semua frasa NP dari hasil parsing yang berbentuk *tree*"
   ]
  },
  {
   "cell_type": "code",
   "execution_count": 123,
   "metadata": {},
   "outputs": [
    {
     "data": {
      "text/plain": [
       "['pemberi kerja',\n",
       " 'orang perseorangan',\n",
       " 'pengusaha',\n",
       " 'badan hukum',\n",
       " 'badan-badan lainnya',\n",
       " 'tenaga kerja',\n",
       " 'upah',\n",
       " 'imbalan',\n",
       " 'bentuk lain']"
      ]
     },
     "execution_count": 123,
     "metadata": {},
     "output_type": "execute_result"
    }
   ],
   "source": [
    "keywords = []\n",
    "for subtree in tree.subtrees():\n",
    "    if subtree.label() == 'NP' and len(subtree.leaves()) >= 1:\n",
    "        words = [item[0] for item in subtree.leaves()]\n",
    "        keywords.append(' '.join(words))\n",
    "            \n",
    "keywords"
   ]
  },
  {
   "cell_type": "markdown",
   "metadata": {},
   "source": [
    "Disini terlihat bahwa *pemberi kerja*, *orang perseorangan*, *pengusaha*, *badan-badan lainnya*, *tenaga kerja*, *upah*, *imbalan*, *bentuk lain* merupakan frasa benda. Kita bisa mengurangi kandidat *keyword* dari 35 menjadi 9 dengan hanya memperhitungkan frasa benda."
   ]
  },
  {
   "cell_type": "markdown",
   "metadata": {},
   "source": [
    "### Contoh Ekstraksi Frasa Benda di Dokumen Nyata "
   ]
  },
  {
   "cell_type": "markdown",
   "metadata": {},
   "source": [
    "Kita akan praktekkan teknik ekstraksi di bagian sebelumnya ke dokumen nyata. Saya akan menggunakan dokumen\n",
    "undang-undang nomor 13 tahun 2003 sebagai contoh. Dokumen ini terdiri dari 20 ribu kata.\n",
    "\n",
    "Lalu kenapa saya memilih undang-undang sebagai contoh? Karena dokumen undang-undang biasanya\n",
    "cukup panjang dan sedikit lebih sulit dipahami daripada dokumen berita, sehingga bisa menjadi contoh konkrit\n",
    "bagaimana *keyword extraction* bisa membantu kita memahami isi undang-undang tersebut."
   ]
  },
  {
   "cell_type": "code",
   "execution_count": 131,
   "metadata": {},
   "outputs": [],
   "source": [
    "url = 'https://raw.githubusercontent.com/bagasabisena/keyword-extraction/master/UU_NO_13_2003.txt'\n",
    "data = urlopen(url)\n",
    "text = data.read().decode(encoding='utf-8')"
   ]
  },
  {
   "cell_type": "code",
   "execution_count": 132,
   "metadata": {},
   "outputs": [
    {
     "name": "stdout",
     "output_type": "stream",
     "text": [
      "                          UNDANG-UNDANG REPUBLIK INDONESIA\n",
      "                                NOMOR 13 TAHUN 2003\n",
      "                                     TENTANG\n",
      "                                 KETENAGAKERJAAN\n",
      "\n",
      "                         DENGAN RAHMAT TUHAN YANG MAHA ESA\n",
      "\n",
      "                               PRESIDEN REPUBLIK INDONESIA,\n",
      "\n",
      "Menimbang:\n",
      "a.   bahwa pembangunan nasional dilaksanakan dalam rangka pembangunan manusia\n",
      "     Indonesia seutuhnya dan pembangunan masyarakat Indonesia seluruhnya untuk\n",
      "     mewujudkan masyarakat yang sejahtera, adil, makmur, yang merata, baik materiil maupun\n",
      "     spiritual berdasarkan Pancasila dan Undang-Undang Dasar Negara Republik Indonesia\n",
      "     Tahun 1945;\n",
      "b.   bahwa dalam pelaksanaan pembangunan nasional, tenaga kerja mempunyai peranan dan\n",
      "     kedudukan yang sangat penting sebagai pelaku dan tujuan pembangunan;\n",
      "c.   bahwa sesuai dengan peranan dan kedudukan tenaga kerja, diperlukan pembangunan\n",
      "     ketenagakerjaan untuk meningkatkan kualitas tenaga kerja dan \n"
     ]
    }
   ],
   "source": [
    "print(text[:1000])"
   ]
  },
  {
   "cell_type": "code",
   "execution_count": 140,
   "metadata": {},
   "outputs": [
    {
     "name": "stdout",
     "output_type": "stream",
     "text": [
      "22322\n"
     ]
    }
   ],
   "source": [
    "print(len(text.split()))"
   ]
  },
  {
   "cell_type": "markdown",
   "metadata": {},
   "source": [
    "Mari kita coba ekstrak frasa benda dari dokumen ini (proses akan memakan waktu agak lama)"
   ]
  },
  {
   "cell_type": "code",
   "execution_count": 135,
   "metadata": {},
   "outputs": [],
   "source": [
    "doc = nlp(text.lower())\n",
    "    \n",
    "# create word and POS tag pair\n",
    "pairs = []\n",
    "for sentence in doc.sentences:\n",
    "    tagged = []\n",
    "    for word in sentence.words:\n",
    "        tagged.append((word.text, word.upos))\n",
    "    pairs.append(tagged)\n",
    "    \n",
    "keywords = []\n",
    "for sentence in tagged_words:\n",
    "    parse_tree = parser.parse(sentence)\n",
    "    for subtree in parse_tree.subtrees():\n",
    "        if subtree.label() == 'NP' and len(subtree.leaves()) >= 2:  # only consider bigram\n",
    "            words = [item[0] for item in subtree.leaves()]\n",
    "            keywords.append(' '.join(words))"
   ]
  },
  {
   "cell_type": "code",
   "execution_count": 137,
   "metadata": {},
   "outputs": [
    {
     "data": {
      "text/plain": [
       "['undang-undang republik indonesia nomor',\n",
       " 'rahmat tuhan',\n",
       " 'presiden republik indonesia',\n",
       " 'pembangunan nasional',\n",
       " 'rangka pembangunan manusia indonesia seutuhnya',\n",
       " 'pembangunan masyarakat indonesia',\n",
       " 'undang-undang dasar',\n",
       " 'negara republik indonesia tahun',\n",
       " 'pelaksanaan pembangunan nasional',\n",
       " 'tenaga kerja',\n",
       " 'tujuan pembangunan',\n",
       " 'kedudukan tenaga kerja',\n",
       " 'pembangunan ketenagakerjaan',\n",
       " 'kualitas tenaga kerja',\n",
       " 'peran sertanya',\n",
       " 'peningkatan perlindungan tenaga kerja',\n",
       " 'keluarganya sesuai',\n",
       " 'martabat kemanusiaan',\n",
       " 'tenaga kerja',\n",
       " 'hak-hak dasar']"
      ]
     },
     "execution_count": 137,
     "metadata": {},
     "output_type": "execute_result"
    }
   ],
   "source": [
    "keywords[:20]"
   ]
  },
  {
   "cell_type": "code",
   "execution_count": 138,
   "metadata": {},
   "outputs": [
    {
     "data": {
      "text/plain": [
       "2720"
      ]
     },
     "execution_count": 138,
     "metadata": {},
     "output_type": "execute_result"
    }
   ],
   "source": [
    "len(keywords)"
   ]
  },
  {
   "cell_type": "markdown",
   "metadata": {},
   "source": [
    "### Memilih Frasa Benda yang Penting "
   ]
  },
  {
   "cell_type": "markdown",
   "metadata": {},
   "source": [
    "Di bagian sebelumnya, kita berhasil mengambil frasa benda sejumlah 2720.\n",
    "Lalu bagaimana kita memilih sebagian dari 2720 frasa benda ini sebagai kata kunci?\n",
    "Lagi-lagi saya menggunakan aturan sederhana:\n",
    "\n",
    "> Semakin sering sebuah frasa benda muncul di dokumen, maka semakin penting frasa benda tersebut di dokumen\n",
    "\n",
    "Artinya, kita hanya perlu menghitung frekuensi kemunculan frasa benda tersebut di dalam dokumen,\n",
    "lalu ambil frasa benda dengan nilai frekuensi yang tinggi sebagai kata benda.\n",
    "Pembaca yang familiar dengan statistik [TF-IDF](https://en.wikipedia.org/wiki/Tf–idf)\n",
    "akan sadar bahwa disini kita menghitung TF (term frequency) dari frasa benda sebagai term di dalam dokumen."
   ]
  },
  {
   "cell_type": "markdown",
   "metadata": {},
   "source": [
    "Untuk menghitung frekuensi, kita bisa menggunakan `Counter` bawaan dari Python"
   ]
  },
  {
   "cell_type": "code",
   "execution_count": 141,
   "metadata": {},
   "outputs": [],
   "source": [
    "freq = Counter(keywords)"
   ]
  },
  {
   "cell_type": "markdown",
   "metadata": {},
   "source": [
    "Mari kita lihat 50 *keyword* paling penting, berdasarkan frekuensi kemunculannya."
   ]
  },
  {
   "cell_type": "code",
   "execution_count": 142,
   "metadata": {},
   "outputs": [
    {
     "data": {
      "text/plain": [
       "[('perjanjian kerja', 101),\n",
       " ('serikat pekerja/serikat buruh', 53),\n",
       " ('peraturan perusahaan', 50),\n",
       " ('perjanjian kerja bersama', 38),\n",
       " ('pemutusan hubungan kerja', 35),\n",
       " ('peraturan perundang-undangan', 35),\n",
       " ('bidang ketenagakerjaan', 33),\n",
       " ('tenaga kerja', 32),\n",
       " ('keputusan menteri', 30),\n",
       " ('hubungan kerja', 26),\n",
       " ('ketentuan pasal', 24),\n",
       " ('huruf a', 20),\n",
       " ('masa kerja', 20),\n",
       " ('kali ketentuan pasal', 20),\n",
       " ('pelatihan kerja', 19),\n",
       " ('uang penggantian hak', 19),\n",
       " ('tindak pidana', 18),\n",
       " ('lembaran negara tahun', 18),\n",
       " ('pemberi kerja', 17),\n",
       " ('lock out', 17),\n",
       " ('bulan upah', 17),\n",
       " ('tenaga kerja asing', 15),\n",
       " ('penempatan tenaga kerja', 15),\n",
       " ('uang penghargaan masa kerja', 15),\n",
       " ('huruf b', 14),\n",
       " ('lembaga penyelesaian perselisihan hubungan industrial', 14),\n",
       " ('undang-undang nomor', 14),\n",
       " ('lembaga kerja sama', 13),\n",
       " ('mogok kerja', 13),\n",
       " ('uang pesangon', 13),\n",
       " ('peraturan pemerintah', 12),\n",
       " ('tempat kerja', 12),\n",
       " ('kesehatan kerja', 12),\n",
       " ('hari kerja', 12),\n",
       " ('staatsblad tahun', 12),\n",
       " ('tambahan lembaran negara nomor', 12),\n",
       " ('pembangunan ketenagakerjaan', 11),\n",
       " ('penutupan perusahaan', 11),\n",
       " ('perjanjian kerja waktu', 11),\n",
       " ('pekerja/buruh perempuan', 11),\n",
       " ('upah minimum', 11),\n",
       " ('huruf c', 10),\n",
       " ('huruf d', 10),\n",
       " ('hubungan industrial', 9),\n",
       " ('instansi pemerintah', 9),\n",
       " ('waktu kerja', 9),\n",
       " ('syarat-syarat kerja', 8),\n",
       " ('jangka waktu', 8),\n",
       " ('bahasa indonesia', 8),\n",
       " ('proses produksi', 8)]"
      ]
     },
     "execution_count": 142,
     "metadata": {},
     "output_type": "execute_result"
    }
   ],
   "source": [
    "freq.most_common(50)"
   ]
  },
  {
   "cell_type": "markdown",
   "metadata": {},
   "source": [
    "Undang-undang nomor 13 tahun 2003 mengatur tentang ketenegakerjaan. Dari daftar diatas, banyak kata-kata kunci yang relevan dengan topik, misalnya *perjanjian kerja*, *serikat buruh*, *pemutusan hubungan kerja*, dan *uang pesangon*. Namun beberapa *keyword* tidak terlalu berkaitan, misalnya *huruf a* atau *bahasa indonesia*. Daftar diatas juga memuat *keyword* yang umum ditemukan di dokumen undang-undang lainnya seperti *peraturan pemerintah*, *tindak pidana* dan *lembaran negara*. "
   ]
  },
  {
   "cell_type": "markdown",
   "metadata": {},
   "source": [
    "## Penutup "
   ]
  },
  {
   "cell_type": "markdown",
   "metadata": {},
   "source": [
    "Teknik sederhana yang dijabarkan di blog ini cukup berhasil untuk mengekstraksi *keyword* dari teks yang cukup kompleks seperti undang-undang. Minimal dengan mengambil 50 *keyword* dengan frekuensi terbanyak, kita mampu menyimpulkan bahwa undang-undang nomor 13 tahun 2003 membahas hal-hal yang berkaitan dengan kepegawaian dan perburuhan.\n",
    "Bagusnya lagi, teknik *keyword extraction* ini tidak memerlukan data yang diberi label alias *unsupervised*.\n",
    "Namun, perlu diakui bahwa hasil yang didapatkan tidak terlalu bersih dan perlu ada upaya tambahan untuk membuang *keyword*-*keyword* 'sampah'. \n",
    "\n",
    "Diatas saya sempat sekilas membahas tentang TF-IDF. Pemanfaatan TF-IDF merupakan kelanjutan yang logis untuk teknik yang saya gunakan ini, karena kita sudah melakukan setengah proses dari TF-IDF, yakni menghitung komponen TF.\n",
    "Namun untuk mengkalkulasi nilai IDF kita membutuhkan korpus dokumen yang lengkap. Dengan korpus yang lengkap, *keyword* seperti *huruf a* atau *peraturan menteri* bisa dipastikan akan keluar dari daftar karena terkena penalti IDF yang tinggi, mengingat frasa tersebut pasti akan sering disebutkan di banyak dokumen undang-undang.\n",
    "\n",
    "Terima kasih sudah mengunjungi blog saya. Salam!"
   ]
  },
  {
   "cell_type": "code",
   "execution_count": null,
   "metadata": {},
   "outputs": [],
   "source": []
  }
 ],
 "metadata": {
  "kernelspec": {
   "display_name": "Python 3",
   "language": "python",
   "name": "python3"
  },
  "language_info": {
   "codemirror_mode": {
    "name": "ipython",
    "version": 3
   },
   "file_extension": ".py",
   "mimetype": "text/x-python",
   "name": "python",
   "nbconvert_exporter": "python",
   "pygments_lexer": "ipython3",
   "version": "3.7.4"
  }
 },
 "nbformat": 4,
 "nbformat_minor": 2
}
